{
 "cells": [
  {
   "attachments": {},
   "cell_type": "markdown",
   "metadata": {},
   "source": [
    "Вероятность того, что стрелок попадет в мишень, выстрелив один раз, равна 0.8. Стрелок выстрелил 100 раз. Найдите вероятность того, что стрелок попадет в цель ровно 85 раз."
   ]
  },
  {
   "cell_type": "code",
   "execution_count": 1,
   "metadata": {},
   "outputs": [
    {
     "name": "stdout",
     "output_type": "stream",
     "text": [
      "0.048061793700746355\n"
     ]
    }
   ],
   "source": [
    "from math import factorial\n",
    "def combinations(n, k):\n",
    "    return factorial(n) / (factorial(n - k) * factorial(k))\n",
    "n = 100\n",
    "k = 85\n",
    "p = 0.8\n",
    "q = 1 - p\n",
    "P = combinations(n, k) * p ** k * q ** (n - k)\n",
    "print(P)"
   ]
  },
  {
   "attachments": {},
   "cell_type": "markdown",
   "metadata": {},
   "source": [
    "Вероятность того, что лампочка перегорит в течение первого дня эксплуатации, равна 0.0004. В жилом комплексе после ремонта в один день включили 5000 новых лампочек."
   ]
  },
  {
   "attachments": {},
   "cell_type": "markdown",
   "metadata": {},
   "source": [
    "Какова вероятность, что ни одна из них не перегорит в первый день?"
   ]
  },
  {
   "cell_type": "code",
   "execution_count": 6,
   "metadata": {},
   "outputs": [
    {
     "data": {
      "text/plain": [
       "0.13536335042701722"
      ]
     },
     "execution_count": 6,
     "metadata": {},
     "output_type": "execute_result"
    }
   ],
   "source": [
    "from math import factorial\n",
    "def combinations(n, k):\n",
    "    return factorial(n) / (factorial(n - k) * factorial(k))\n",
    "n = 5000\n",
    "p = 0.0004\n",
    "k = 0\n",
    "l = n * p\n",
    "l ** k / factorial(k) * 2.718 ** (-l)"
   ]
  },
  {
   "attachments": {},
   "cell_type": "markdown",
   "metadata": {},
   "source": [
    "Какова вероятность, что перегорят ровно две?"
   ]
  },
  {
   "cell_type": "code",
   "execution_count": 7,
   "metadata": {},
   "outputs": [
    {
     "name": "stdout",
     "output_type": "stream",
     "text": [
      "0.2707247150266753\n"
     ]
    }
   ],
   "source": [
    "from math import factorial\n",
    "def combinations(n, k):\n",
    "    return factorial(n) / (factorial(n - k) * factorial(k))\n",
    "n = 5000\n",
    "p = 0.0004\n",
    "k = 2\n",
    "q = 1 - p\n",
    "P = combinations(n, k) * p ** k * q ** (n - k)\n",
    "print(P)"
   ]
  },
  {
   "attachments": {},
   "cell_type": "markdown",
   "metadata": {},
   "source": [
    "Монету подбросили 144 раза. Какова вероятность, что орел выпадет ровно 70 раз?"
   ]
  },
  {
   "cell_type": "code",
   "execution_count": 3,
   "metadata": {},
   "outputs": [
    {
     "name": "stdout",
     "output_type": "stream",
     "text": [
      "0.06281178035144776\n"
     ]
    }
   ],
   "source": [
    "from math import factorial\n",
    "def combinations(n, k):\n",
    "    return factorial(n) / (factorial(n - k) * factorial(k))\n",
    "n = 144\n",
    "k = 70\n",
    "p, q = 0.5, 0.5\n",
    "P = combinations(n, k) * p ** k * q ** (n - k)\n",
    "print(P)"
   ]
  },
  {
   "attachments": {},
   "cell_type": "markdown",
   "metadata": {},
   "source": [
    "В первом ящике находится 10 мячей, из которых 7 - белые. Во втором ящике - 11 мячей, из которых 9 белых. Из каждого ящика вытаскивают случайным образом по два мяча."
   ]
  },
  {
   "attachments": {},
   "cell_type": "markdown",
   "metadata": {},
   "source": [
    "Какова вероятность того, что все мячи белые?"
   ]
  },
  {
   "cell_type": "code",
   "execution_count": 10,
   "metadata": {},
   "outputs": [
    {
     "name": "stdout",
     "output_type": "stream",
     "text": [
      "0.3054545454545455\n"
     ]
    }
   ],
   "source": [
    "from math import factorial\n",
    "def combinations(n, k):\n",
    "    return factorial(n) / (factorial(n - k) * factorial(k))\n",
    "\n",
    "m_1 = combinations(7, 2)\n",
    "n_1 = combinations(10, 2)\n",
    "P_1 = m_1 / n_1\n",
    "\n",
    "m_2 = combinations(9, 2)\n",
    "n_2 = combinations(11, 2)\n",
    "P_2 = m_2 / n_2\n",
    "\n",
    "P = P_1 * P_2\n",
    "print(P)"
   ]
  },
  {
   "attachments": {},
   "cell_type": "markdown",
   "metadata": {},
   "source": [
    "Какова вероятность того, что ровно два мяча белые?"
   ]
  },
  {
   "cell_type": "code",
   "execution_count": 14,
   "metadata": {},
   "outputs": [
    {
     "name": "stdout",
     "output_type": "stream",
     "text": [
      "0.20484848484848486\n"
     ]
    }
   ],
   "source": [
    "from math import factorial\n",
    "def combinations(n, k):\n",
    "    return factorial(n) / (factorial(n - k) * factorial(k))\n",
    "\n",
    "m_1 = combinations(7, 2)\n",
    "n_1 = combinations(10, 2)\n",
    "P_1 = m_1 / n_1\n",
    "\n",
    "m_1_0 = combinations(7, 0) * combinations(3, 2)\n",
    "n_1_0 = combinations(10, 2)\n",
    "P_1_0 = m_1_0/ n_1_0\n",
    "\n",
    "m_1_1 = combinations(7, 1) * combinations(3, 1)\n",
    "n_1_1 = combinations(10, 2)\n",
    "P_1_1 = m_1_1 / n_1_1\n",
    "\n",
    "m_2 = combinations(9, 2)\n",
    "n_2 = combinations(11, 2)\n",
    "P_2 = m_2 / n_2\n",
    "\n",
    "m_2_0 = combinations(9, 0) * combinations(2, 2)\n",
    "n_2_0 = combinations(11, 2)\n",
    "P_2_0 = m_2_0 / n_2_0\n",
    "\n",
    "m_2_1 = combinations(9, 1) * combinations(2, 1)\n",
    "n_2_1 = combinations(11, 2)\n",
    "P_2_1 = m_2_1 / n_2_1\n",
    "\n",
    "P = P_1 * P_2_0 + P_1_1 * P_2_1 + P_2 * P_1_0\n",
    "print(P)"
   ]
  },
  {
   "attachments": {},
   "cell_type": "markdown",
   "metadata": {},
   "source": [
    "Какова вероятность того, что хотя бы один мяч белый?"
   ]
  },
  {
   "cell_type": "code",
   "execution_count": 15,
   "metadata": {},
   "outputs": [
    {
     "name": "stdout",
     "output_type": "stream",
     "text": [
      "0.9987878787878788\n"
     ]
    }
   ],
   "source": [
    "from math import factorial\n",
    "def combinations(n, k):\n",
    "    return factorial(n) / (factorial(n - k) * factorial(k))\n",
    "\n",
    "m_1_0 = combinations(7, 0) * combinations(3, 2)\n",
    "n_1_0 = combinations(10, 2)\n",
    "P_1_0 = m_1_0/ n_1_0\n",
    "\n",
    "m_2_0 = combinations(9, 0) * combinations(2, 2)\n",
    "n_2_0 = combinations(11, 2)\n",
    "P_2_0 = m_2_0 / n_2_0\n",
    "\n",
    "P = P_1_0 * P_2_0\n",
    "Q = 1 - P\n",
    "print(Q)"
   ]
  }
 ],
 "metadata": {
  "kernelspec": {
   "display_name": "Python 3",
   "language": "python",
   "name": "python3"
  },
  "language_info": {
   "codemirror_mode": {
    "name": "ipython",
    "version": 3
   },
   "file_extension": ".py",
   "mimetype": "text/x-python",
   "name": "python",
   "nbconvert_exporter": "python",
   "pygments_lexer": "ipython3",
   "version": "3.11.4"
  },
  "orig_nbformat": 4
 },
 "nbformat": 4,
 "nbformat_minor": 2
}
