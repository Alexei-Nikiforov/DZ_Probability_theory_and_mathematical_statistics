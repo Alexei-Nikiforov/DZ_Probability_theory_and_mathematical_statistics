{
 "cells": [
  {
   "attachments": {},
   "cell_type": "markdown",
   "metadata": {},
   "source": [
    "Когда используется критерий Стьюдента, а когда Z –критерий?"
   ]
  },
  {
   "attachments": {},
   "cell_type": "markdown",
   "metadata": {},
   "source": [
    "Критерий Стьюдента используется:\n",
    "- когда среднеквадратическое отклонение (сигма) генеральной совокупности неизвестна"
   ]
  },
  {
   "attachments": {},
   "cell_type": "markdown",
   "metadata": {},
   "source": [
    "Z –критерий используется:\n",
    "- когда среднеквадратическое отклонение (сигма) генеральной совокупности известна "
   ]
  },
  {
   "attachments": {},
   "cell_type": "markdown",
   "metadata": {},
   "source": [
    "Решать вручную: Проведите тест гипотезы. Утверждается, что шарики для подшипников, изготовленные автоматическим станком, имеют средний диаметр 17 мм.\n",
    "Используя односторонний критерий с α=0,05, проверить эту гипотезу, если в выборке из n=100 шариков средний диаметр оказался равным 17.5 мм, а дисперсия известна и равна 4 кв. мм."
   ]
  },
  {
   "cell_type": "code",
   "execution_count": 15,
   "metadata": {},
   "outputs": [
    {
     "name": "stdout",
     "output_type": "stream",
     "text": [
      "-2.5\n"
     ]
    }
   ],
   "source": [
    "x = 17\n",
    "mu = 17.5\n",
    "D = 4\n",
    "s = D ** 0.5\n",
    "n = 100\n",
    "print((x - mu) / (s / n ** 0.5))"
   ]
  },
  {
   "cell_type": "code",
   "execution_count": 1,
   "metadata": {},
   "outputs": [
    {
     "name": "stdout",
     "output_type": "stream",
     "text": [
      "-1.6448536269514729\n"
     ]
    }
   ],
   "source": [
    "from scipy import stats\n",
    "a = 0.05\n",
    "t_tabl = stats.norm.ppf(a)\n",
    "print(t_tabl)"
   ]
  },
  {
   "attachments": {},
   "cell_type": "markdown",
   "metadata": {},
   "source": [
    "Т.к. -1.64 > -2.5, то утверждение, что шарики для подшипников, изготовленные автоматическим станком, имеют средний диаметр 17 мм - не принимается"
   ]
  },
  {
   "attachments": {},
   "cell_type": "markdown",
   "metadata": {},
   "source": [
    "Решать вручную: Проведите тест гипотезы. Продавец утверждает, что средний вес пачки печенья составляет 200 г. Из партии извлечена выборка из 10 пачек. \n",
    "\n",
    "Вес каждой пачки составляет: 202, 203, 199, 197, 195, 201, 200, 204, 194, 190. Известно, что их веса распределены нормально. \n",
    "\n",
    "Верно ли утверждение продавца, если учитывать, что доверительная вероятность равна 99%? (Провести двусторонний тест.)"
   ]
  },
  {
   "cell_type": "code",
   "execution_count": 10,
   "metadata": {},
   "outputs": [
    {
     "name": "stdout",
     "output_type": "stream",
     "text": [
      "-1.0651074037450896\n"
     ]
    }
   ],
   "source": [
    "import numpy as np\n",
    "arr = np.array([202, 203, 199, 197, 195, 201, 200, 204, 194, 190])\n",
    "x = np.mean(arr)\n",
    "mu = 200\n",
    "s = np.std(arr, ddof = 1)\n",
    "n = 10\n",
    "print((x - mu) / (s / n ** 0.5))"
   ]
  },
  {
   "cell_type": "code",
   "execution_count": 11,
   "metadata": {},
   "outputs": [
    {
     "name": "stdout",
     "output_type": "stream",
     "text": [
      "-3.2498355440153697\n"
     ]
    }
   ],
   "source": [
    "from scipy import stats\n",
    "a = (1 - 0.99) / 2\n",
    "t_tabl = stats.t.ppf(a, n - 1)\n",
    "print(t_tabl)"
   ]
  },
  {
   "attachments": {},
   "cell_type": "markdown",
   "metadata": {},
   "source": [
    "Т.к. -3.24 < -1.06, то нулевая гипотеза (утверждение продавца, что средний вес пачки печенья составляет 200 г) - принимается"
   ]
  },
  {
   "attachments": {},
   "cell_type": "markdown",
   "metadata": {},
   "source": [
    "Решать с помощью функции: Есть ли статистически значимые различия в росте дочерей?\n",
    "\n",
    "Рост матерей 172, 177, 158, 170, 178,175, 164, 160, 169\n",
    "\n",
    "Рост взрослых дочерей: 173, 175, 162, 174, 175, 168, 155, 170, 160"
   ]
  },
  {
   "cell_type": "code",
   "execution_count": 9,
   "metadata": {},
   "outputs": [
    {
     "data": {
      "text/plain": [
       "TtestResult(statistic=0.35581195161541973, pvalue=0.7266292679160495, df=16.0)"
      ]
     },
     "execution_count": 9,
     "metadata": {},
     "output_type": "execute_result"
    }
   ],
   "source": [
    "import numpy as np\n",
    "from scipy import stats\n",
    "x = np.array([172, 177, 158, 170, 178,175, 164, 160, 169])\n",
    "y = np.array([173, 175, 162, 174, 175, 168, 155, 170, 160])\n",
    "stats.ttest_ind(x, y)"
   ]
  },
  {
   "attachments": {},
   "cell_type": "markdown",
   "metadata": {},
   "source": [
    "Так как p-value > alpha (0.72 > 0.05 (5%)), то нулевая гипотеза (статистически значимых различий в росте дочерей нет) - принимается"
   ]
  }
 ],
 "metadata": {
  "kernelspec": {
   "display_name": "Python 3",
   "language": "python",
   "name": "python3"
  },
  "language_info": {
   "codemirror_mode": {
    "name": "ipython",
    "version": 3
   },
   "file_extension": ".py",
   "mimetype": "text/x-python",
   "name": "python",
   "nbconvert_exporter": "python",
   "pygments_lexer": "ipython3",
   "version": "3.11.4"
  },
  "orig_nbformat": 4
 },
 "nbformat": 4,
 "nbformat_minor": 2
}
