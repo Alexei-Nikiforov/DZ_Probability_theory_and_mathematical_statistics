{
 "cells": [
  {
   "attachments": {},
   "cell_type": "markdown",
   "metadata": {},
   "source": [
    "Даны две независимые выборки. Не соблюдается условие нормальности\n",
    "\n",
    "x1  380, 420, 290\n",
    "\n",
    "y1  140, 360, 200, 900\n",
    "\n",
    "Сделайте вывод по результатам, полученным с помощью функции"
   ]
  },
  {
   "cell_type": "code",
   "execution_count": 2,
   "metadata": {},
   "outputs": [
    {
     "data": {
      "text/plain": [
       "MannwhitneyuResult(statistic=8.0, pvalue=0.6285714285714286)"
      ]
     },
     "execution_count": 2,
     "metadata": {},
     "output_type": "execute_result"
    }
   ],
   "source": [
    "# критерий Манна-Уитни\n",
    "\n",
    "import numpy as np\n",
    "import scipy.stats as stats\n",
    "\n",
    "group_1 = np.array([380, 420, 290])\n",
    "group_2 = np.array([140, 360, 200, 900])\n",
    "\n",
    "stats.mannwhitneyu(group_1, group_2)\n",
    "\n",
    "# Вывод: Так как p-value > 0.05 (5%), то нулевая гипотеза (данные не различаются) - принимается"
   ]
  },
  {
   "attachments": {},
   "cell_type": "markdown",
   "metadata": {},
   "source": [
    "Исследовалось влияние препарата на уровень давления пациентов. Сначала измерялось давление до приема препарата, потом через 10 минут и через 30 минут. Есть ли статистически значимые различия?\n",
    "\n",
    "1е измерение до приема препарата: 150, 160, 165, 145, 155\n",
    "\n",
    "2е измерение через 10 минут: 140, 155, 150,  130, 135\n",
    "\n",
    "3е измерение через 30 минут: 130, 130, 120, 130, 125"
   ]
  },
  {
   "cell_type": "code",
   "execution_count": 3,
   "metadata": {},
   "outputs": [
    {
     "data": {
      "text/plain": [
       "FriedmanchisquareResult(statistic=9.578947368421062, pvalue=0.00831683351100441)"
      ]
     },
     "execution_count": 3,
     "metadata": {},
     "output_type": "execute_result"
    }
   ],
   "source": [
    "# критерий Фридмана\n",
    "\n",
    "import numpy as np\n",
    "import scipy.stats as stats\n",
    "\n",
    "A = np.array([150, 160, 165, 145, 155])\n",
    "A_10 = np.array([140, 155, 150,  130, 135])\n",
    "A_30 = np.array([130, 130, 120, 130, 125])\n",
    "\n",
    "stats.friedmanchisquare(A, A_10, A_30)\n",
    "\n",
    "# Вывод: Так как p-value < 0.05 (5%), то нулевая гипотеза (есть ли статистически значимые различия) - не принимается (различия есть)"
   ]
  },
  {
   "attachments": {},
   "cell_type": "markdown",
   "metadata": {},
   "source": [
    "Сравните 1 и 2е измерения, предполагая, что 3го измерения через 30 минут не было."
   ]
  },
  {
   "cell_type": "code",
   "execution_count": 4,
   "metadata": {},
   "outputs": [
    {
     "data": {
      "text/plain": [
       "WilcoxonResult(statistic=0.0, pvalue=0.0625)"
      ]
     },
     "execution_count": 4,
     "metadata": {},
     "output_type": "execute_result"
    }
   ],
   "source": [
    "# критерий Уилкоксона\n",
    "\n",
    "import numpy as np\n",
    "import scipy.stats as stats\n",
    "\n",
    "A = np.array([150, 160, 165, 145, 155])\n",
    "A_10 = np.array([140, 155, 150,  130, 135])\n",
    "\n",
    "stats.wilcoxon(A, A_10)\n",
    "\n",
    "# Вывод: Так как p-value > 0.05 (5%), то нулевая гипотеза (есть ли статистически значимые различия) - принимается (различий нет)"
   ]
  },
  {
   "attachments": {},
   "cell_type": "markdown",
   "metadata": {},
   "source": [
    "Даны 3 группы учеников плавания.\n",
    "\n",
    "В первой группе время на дистанцию 50 м составляют: 56, 60, 62, 55, 71, 67, 59, 58, 64, 67\n",
    "\n",
    "Вторая группа: 57, 58, 69, 48, 72, 70, 68, 71, 50, 53\n",
    "\n",
    "Третья группа: 57, 67, 49, 48, 47, 55, 66, 51, 54\n",
    "\n",
    "Выбрать тест и проверить, есть ли различия между выборками"
   ]
  },
  {
   "cell_type": "code",
   "execution_count": 5,
   "metadata": {},
   "outputs": [
    {
     "data": {
      "text/plain": [
       "KruskalResult(statistic=5.465564058257224, pvalue=0.06503809985904942)"
      ]
     },
     "execution_count": 5,
     "metadata": {},
     "output_type": "execute_result"
    }
   ],
   "source": [
    "# критерий Крускала-Уоллиса\n",
    "import numpy as np\n",
    "import scipy.stats as stats\n",
    "\n",
    "gr1 = np.array([56, 60, 62, 55, 71, 67, 59, 58, 64, 67])\n",
    "gr2 = np.array([57, 58, 69, 48, 72, 70, 68, 71, 50, 53])\n",
    "gr3 = np.array([57, 67, 49, 48, 47, 55, 66, 51, 54])\n",
    "\n",
    "stats.kruskal(gr1, gr2, gr3)\n",
    "\n",
    "# Вывод: Так как p-value > 0.05 (5%), то нулевая гипотеза (есть ли различия между выборками) - принимается (различий нет)"
   ]
  },
  {
   "attachments": {},
   "cell_type": "markdown",
   "metadata": {},
   "source": [
    "Заявляется, что партия изготавливается со средним арифметическим 2,5 см. Проверить данную гипотезу, если известно, что размеры изделий подчинены нормальному закону распределения. Объем выборки 10, уровень статистической значимости 5%\n",
    "\n",
    "2.51, 2.35, 2.74, 2.56, 2.40, 2.36, 2.65, 2.7, 2.67, 2.34"
   ]
  },
  {
   "cell_type": "code",
   "execution_count": 11,
   "metadata": {},
   "outputs": [
    {
     "name": "stdout",
     "output_type": "stream",
     "text": [
      "t-статистики = 0.5630613661802959\n"
     ]
    }
   ],
   "source": [
    "# Нулевая гипотеза: партия изготавливается со средним арифметическим 2,5 см. (Если t-статистики меньше или равна t-критического)\n",
    "# Альтернативная гипотеза: партия не изготавливается со средним арифметическим 2,5 см. (Если t-статистики больше t-критического)\n",
    "\n",
    "import numpy as np\n",
    "arr = np.array([2.51, 2.35, 2.74, 2.56, 2.40, 2.36, 2.65, 2.7, 2.67, 2.34])\n",
    "n = 10\n",
    "mu = 2.5\n",
    "\n",
    "# Среднее арифметическое в партии\n",
    "x = np.mean(arr)\n",
    "\n",
    "# Cтандартное отклонение\n",
    "s = np.std(arr, ddof = 1)\n",
    "\n",
    "# t-статистики\n",
    "print(f't-статистики = {(x - mu) / (s / n ** 0.5)}')"
   ]
  },
  {
   "cell_type": "code",
   "execution_count": 13,
   "metadata": {},
   "outputs": [
    {
     "name": "stdout",
     "output_type": "stream",
     "text": [
      "t-критическое = 1.8331129326536333\n"
     ]
    }
   ],
   "source": [
    "from scipy import stats\n",
    "a = (1 - 0.05)\n",
    "\n",
    "# t-критическое\n",
    "t_tabl = stats.t.ppf(a, n - 1)\n",
    "print(f't-критическое = {t_tabl}')"
   ]
  },
  {
   "attachments": {},
   "cell_type": "markdown",
   "metadata": {},
   "source": [
    "Вывод: т.к. t-статистики < t-критическое (0.56 < 1.83), то нулевая гипотеза (утверждение, что партия изготавливается со средним арифметическим 2,5 см) - принимается"
   ]
  }
 ],
 "metadata": {
  "kernelspec": {
   "display_name": "Python 3",
   "language": "python",
   "name": "python3"
  },
  "language_info": {
   "codemirror_mode": {
    "name": "ipython",
    "version": 3
   },
   "file_extension": ".py",
   "mimetype": "text/x-python",
   "name": "python",
   "nbconvert_exporter": "python",
   "pygments_lexer": "ipython3",
   "version": "3.11.4"
  },
  "orig_nbformat": 4
 },
 "nbformat": 4,
 "nbformat_minor": 2
}
